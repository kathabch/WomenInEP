{
 "cells": [
  {
   "cell_type": "markdown",
   "id": "19367649",
   "metadata": {},
   "source": [
    "# all attempts have failed so far."
   ]
  },
  {
   "cell_type": "code",
   "execution_count": null,
   "id": "58ba8d14",
   "metadata": {},
   "outputs": [],
   "source": [
    "import pandas as pd\n",
    "import numpy as np"
   ]
  },
  {
   "cell_type": "code",
   "execution_count": null,
   "id": "78c96c7e",
   "metadata": {},
   "outputs": [],
   "source": [
    "# Read CSV file into DataFrame df\n",
    "df = pd.read_csv(\"C:\\\\Users\\\\Katharina\\\\Documents\\\\Uni\\\\6_WS2223\\\\Masterarbeit\\\\code\\\\WomenInEP\\\\data\\\\csv\\\\\\\\combined_csv.csv\", index_col=0)\n",
    "\n",
    "# Show dataframe\n",
    "print(df)"
   ]
  },
  {
   "cell_type": "markdown",
   "id": "6d917268",
   "metadata": {},
   "source": [
    "## trying to translate with the googletrans package as before - NOT working!"
   ]
  },
  {
   "cell_type": "code",
   "execution_count": null,
   "id": "dbd6349f",
   "metadata": {},
   "outputs": [],
   "source": [
    "from googletrans import Translator\n",
    "\n",
    "translator = Translator()"
   ]
  },
  {
   "cell_type": "code",
   "execution_count": null,
   "id": "da0efdfe",
   "metadata": {},
   "outputs": [],
   "source": [
    "def translate(text_to_translate):\n",
    "        \"\"\"Translates text to English with Google-API and adds language of original\"\"\"\n",
    "        try:\n",
    "            if text_to_translate is not None:\n",
    "                translation = translator.translate(text_to_translate, dest='en')\n",
    "                text_translated = translation.text\n",
    "                language = translation.src\n",
    "                if text_translated is None:\n",
    "                    text_translated = 0\n",
    "                if language is None:\n",
    "                    language = 0\n",
    "            return (text_translated, language)\n",
    "        except:\n",
    "            print(text_to_translate)\n",
    "            return (0,0)"
   ]
  },
  {
   "cell_type": "code",
   "execution_count": null,
   "id": "d39a85d1",
   "metadata": {},
   "outputs": [],
   "source": [
    "df2 = df.loc[df['language'].isna()]\n",
    "\n",
    "for index, row in df2.iterrows():\n",
    "    text_translated, language = translate(row['text'])\n",
    "    row['text_translated'] = text_translated\n",
    "    row['language'] = language\n",
    "    \n",
    "df2"
   ]
  },
  {
   "cell_type": "markdown",
   "id": "0ae2ae17",
   "metadata": {},
   "source": [
    "## trying to use a different package - NOT working"
   ]
  },
  {
   "cell_type": "code",
   "execution_count": null,
   "id": "0acc96d6",
   "metadata": {},
   "outputs": [],
   "source": [
    "#extracting only not translated rows\n",
    "df2 = df.loc[df['language'].isna()]\n",
    "df2\n",
    "#opposite\n",
    "#df3 = df.loc[~df['language'].isna()]"
   ]
  },
  {
   "cell_type": "code",
   "execution_count": null,
   "id": "15bd0be0",
   "metadata": {},
   "outputs": [],
   "source": [
    "import fasttext\n",
    "import re\n",
    "from os import path\n",
    "import os\n",
    "\n",
    "BASEPATH = os.path.abspath('')\n",
    "filepath = path.abspath(path.join(BASEPATH, \"..\",\n",
    "                                  \"data/lid.176.ftz\")\n",
    "                        )\n",
    "\n",
    "\n",
    "class LanguageIdentification:\n",
    "\n",
    "    def __init__(self):\n",
    "        pretrained_lang_model = filepath\n",
    "        self.model = fasttext.load_model(pretrained_lang_model)\n",
    "\n",
    "    def predict_lang(self, text: str):\n",
    "        \"\"\"Predicts language of input text\n",
    "        Parameters\n",
    "        ----------\n",
    "        text : str\n",
    "            String to detect language\n",
    "        Returns\n",
    "        -------\n",
    "        str\n",
    "            language, e.g. 'de'-german, 'en'-english,...\n",
    "        \"\"\"\n",
    "        predictions = self.model.predict(text, k=1)\n",
    "        lang = re.sub(\"__label__\", \"\", predictions[0][0])\n",
    "        return lang"
   ]
  },
  {
   "cell_type": "code",
   "execution_count": null,
   "id": "f36bbbef",
   "metadata": {},
   "outputs": [],
   "source": [
    "LAN = LanguageIdentification()\n",
    "for index, row in df2.iterrows():\n",
    "    df2.loc[index, 'language'] = LAN.predict_lang(str(row['text']))\n",
    "    \n",
    "df2"
   ]
  },
  {
   "cell_type": "code",
   "execution_count": null,
   "id": "967f7c82",
   "metadata": {},
   "outputs": [],
   "source": [
    "df2.language.value_counts() "
   ]
  }
 ],
 "metadata": {
  "kernelspec": {
   "display_name": "Python 3 (ipykernel)",
   "language": "python",
   "name": "python3"
  },
  "language_info": {
   "codemirror_mode": {
    "name": "ipython",
    "version": 3
   },
   "file_extension": ".py",
   "mimetype": "text/x-python",
   "name": "python",
   "nbconvert_exporter": "python",
   "pygments_lexer": "ipython3",
   "version": "3.9.16"
  }
 },
 "nbformat": 4,
 "nbformat_minor": 5
}
